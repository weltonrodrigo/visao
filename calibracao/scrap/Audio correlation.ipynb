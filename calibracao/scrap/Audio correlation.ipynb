{
 "cells": [
  {
   "cell_type": "code",
   "execution_count": 1,
   "metadata": {},
   "outputs": [],
   "source": [
    "%matplotlib inline\n",
    "import numpy as np, matplotlib.pyplot as plt, IPython.display as ipd\n",
    "import librosa, librosa.display\n",
    "from scipy import signal\n",
    "from pathlib import Path\n",
    "import subprocess\n",
    "import ffmpeg\n",
    "from typing import Union"
   ]
  },
  {
   "cell_type": "code",
   "execution_count": 2,
   "metadata": {},
   "outputs": [],
   "source": [
    "DIR = Path(\"../trabalho1/\")\n",
    "WORK_DIR = Path('.temp-res/')"
   ]
  },
  {
   "cell_type": "code",
   "execution_count": 3,
   "metadata": {},
   "outputs": [],
   "source": [
    "WORK_DIR.mkdir(parents=True, exist_ok=True)"
   ]
  },
  {
   "cell_type": "code",
   "execution_count": 4,
   "metadata": {},
   "outputs": [],
   "source": [
    "INPUT_VIDEO_FILENAMES = DIR / 'camera1.webm', DIR / 'camera2.webm'"
   ]
  },
  {
   "cell_type": "code",
   "execution_count": 71,
   "metadata": {},
   "outputs": [],
   "source": [
    "INPUT_VIDEO_FILENAMES = WORK_DIR / 'trim1.mp4', WORK_DIR / 'trim2.mp4'"
   ]
  },
  {
   "cell_type": "code",
   "execution_count": 72,
   "metadata": {},
   "outputs": [],
   "source": [
    "def prepare_media(input_media: Path, output: Path):\n",
    "    \"\"\"Convert audio to wave using ffmpeg\"\"\"\n",
    "    \n",
    "    out_video = output.with_suffix('.mp4')\n",
    "    out_audio = output.with_suffix('.wav')\n",
    "    \n",
    "#     print(out_audio, out_video)\n",
    "    \n",
    "    stream = ffmpeg.input(input_media)\n",
    "#     audio = stream.audio\n",
    "#     video = stream.video\n",
    "    \n",
    "    try:\n",
    "        # Block simplifies chaining\n",
    "#         (\n",
    "#             video\n",
    "#             .filter('scale', '-1', '720')  ## Reduce to 720p\n",
    "#             .filter('fps', 25)             ## Constant framerate\n",
    "#             .output(out_video.as_posix(), pix_fmt='yuv420p', f='mp4')\n",
    "#             .overwrite_output()\n",
    "#             .run()\n",
    "#         )\n",
    "        a = (\n",
    "            stream\n",
    "            .filter('asetpts', 'N/(25*TB)')\n",
    "            .output(out_audio.as_posix(), codec='pcm_s16le')\n",
    "            .overwrite_output()\n",
    "        )\n",
    "        print(ffmpeg.compile(a))\n",
    "        a.run()\n",
    "        \n",
    "    except Exception as e:\n",
    "        print(e.stderr)\n",
    "        print(e.stdout)\n",
    "        raise(e)\n",
    "        \n",
    "    return (out_video, out_audio)\n"
   ]
  },
  {
   "cell_type": "code",
   "execution_count": 73,
   "metadata": {
    "scrolled": true
   },
   "outputs": [
    {
     "name": "stdout",
     "output_type": "stream",
     "text": [
      "['ffmpeg', '-i', PosixPath('.temp-res/trim1.mp4'), '-filter_complex', '[0]asetpts=N/(25*TB)[s0]', '-map', '[s0]', '-codec', 'pcm_s16le', '.temp-res/trim1.wav', '-y']\n",
      "['ffmpeg', '-i', PosixPath('.temp-res/trim2.mp4'), '-filter_complex', '[0]asetpts=N/(25*TB)[s0]', '-map', '[s0]', '-codec', 'pcm_s16le', '.temp-res/trim2.wav', '-y']\n"
     ]
    },
    {
     "data": {
      "text/plain": [
       "[(PosixPath('.temp-res/trim1.mp4'), PosixPath('.temp-res/trim1.wav')),\n",
       " (PosixPath('.temp-res/trim2.mp4'), PosixPath('.temp-res/trim2.wav'))]"
      ]
     },
     "execution_count": 73,
     "metadata": {},
     "output_type": "execute_result"
    }
   ],
   "source": [
    "# FILENAMES (video, audio), (video, audio)\n",
    "MEDIA_FILENAMES = [ prepare_media(filename, WORK_DIR / filename.stem ) for filename in INPUT_VIDEO_FILENAMES ]\n",
    "MEDIA_FILENAMES"
   ]
  },
  {
   "cell_type": "markdown",
   "metadata": {},
   "source": [
    "# Find delay between files based on the audio."
   ]
  },
  {
   "cell_type": "code",
   "execution_count": 74,
   "metadata": {},
   "outputs": [],
   "source": [
    "def lag_finder(y1, y2, sr):\n",
    "    \"\"\"Uses cross relation to find delay between audios.\n",
    "    see: https://stackoverflow.com/a/56432463/25612\n",
    "    \"\"\"\n",
    "    n = len(y1)\n",
    "    middle = n // 2 \n",
    "\n",
    "    corr = (\n",
    "        signal.correlate(y2, y1, mode='same')\n",
    "            / np.sqrt(\n",
    "                signal.correlate(y1, y1, mode='same')[middle]\n",
    "                * signal.correlate(y2, y2, mode='same')[middle]\n",
    "            )\n",
    "    )\n",
    "\n",
    "    delay_arr = np.linspace(-0.5*n/sr, 0.5*n/sr, n)\n",
    "    delay = delay_arr[np.argmax(corr)]\n",
    "    print('y2 is ' + str(delay) + ' behind y1')\n",
    "\n",
    "    plt.figure()\n",
    "    plt.plot(delay_arr, corr)\n",
    "    plt.title('Lag: ' + str(np.round(delay, 3)) + ' s')\n",
    "    plt.xlabel('Lag')\n",
    "    plt.ylabel('Correlation coeff')\n",
    "    plt.show()\n",
    "    return delay"
   ]
  },
  {
   "cell_type": "markdown",
   "metadata": {},
   "source": [
    "##  Load audio as wav files and process them"
   ]
  },
  {
   "cell_type": "code",
   "execution_count": 75,
   "metadata": {},
   "outputs": [],
   "source": [
    "audios_filenames = [entry[1] for entry in MEDIA_FILENAMES]\n",
    "(x_1, sr_1), (x_2, sr_2) = map(librosa.load, audios_filenames)"
   ]
  },
  {
   "cell_type": "markdown",
   "metadata": {},
   "source": [
    "Sample rate is the same, as the file was created by us earlier."
   ]
  },
  {
   "cell_type": "code",
   "execution_count": 76,
   "metadata": {},
   "outputs": [
    {
     "data": {
      "text/plain": [
       "22050"
      ]
     },
     "execution_count": 76,
     "metadata": {},
     "output_type": "execute_result"
    }
   ],
   "source": [
    "sampling_rate = sr_1\n",
    "sampling_rate"
   ]
  },
  {
   "cell_type": "markdown",
   "metadata": {},
   "source": [
    "Need to make the files equal. We just right zero-pad the smaller file."
   ]
  },
  {
   "cell_type": "code",
   "execution_count": 82,
   "metadata": {},
   "outputs": [
    {
     "data": {
      "text/plain": [
       "(479232, 511488)"
      ]
     },
     "execution_count": 82,
     "metadata": {},
     "output_type": "execute_result"
    }
   ],
   "source": [
    "len(x_1), len(x_2)"
   ]
  },
  {
   "cell_type": "code",
   "execution_count": 78,
   "metadata": {},
   "outputs": [
    {
     "data": {
      "text/plain": [
       "-32256"
      ]
     },
     "execution_count": 78,
     "metadata": {},
     "output_type": "execute_result"
    }
   ],
   "source": [
    "(how_many := len(x_1) - len(x_2))"
   ]
  },
  {
   "cell_type": "code",
   "execution_count": 39,
   "metadata": {},
   "outputs": [
    {
     "name": "stdout",
     "output_type": "stream",
     "text": [
      "Before: 511296\n",
      "After:  578560\n"
     ]
    }
   ],
   "source": [
    "print(f'Before: {len(x_2)}')\n",
    "x_2 = np.pad(x_2, pad_width=(0, how_many), mode='constant', constant_values=0)\n",
    "print(f'After:  {len(x_2)}')"
   ]
  },
  {
   "cell_type": "code",
   "execution_count": 79,
   "metadata": {},
   "outputs": [
    {
     "data": {
      "text/plain": [
       "<matplotlib.collections.PolyCollection at 0x1247ecac0>"
      ]
     },
     "execution_count": 79,
     "metadata": {},
     "output_type": "execute_result"
    },
    {
     "data": {
      "image/png": "[encoded data removed]",
      "text/plain": [
       "<Figure size 720x216 with 1 Axes>"
      ]
     },
     "metadata": {
      "needs_background": "light"
     },
     "output_type": "display_data"
    }
   ],
   "source": [
    "plt.figure(figsize=(10, 3))\n",
    "librosa.display.waveplot(x_2, sampling_rate, max_points=len(x_1))\n",
    "librosa.display.waveplot(x_1, sampling_rate, max_points=len(x_1))"
   ]
  },
  {
   "cell_type": "code",
   "execution_count": 83,
   "metadata": {},
   "outputs": [
    {
     "name": "stdout",
     "output_type": "stream",
     "text": [
      "y2 is 2.2675784277836897e-05 behind y1\n"
     ]
    },
    {
     "data": {
      "image/png": "[encoded data removed]",
      "text/plain": [
       "<Figure size 432x288 with 1 Axes>"
      ]
     },
     "metadata": {
      "needs_background": "light"
     },
     "output_type": "display_data"
    }
   ],
   "source": [
    "DELAY = lag_finder(x_1, x_2[:len(x_1)], sampling_rate)"
   ]
  },
  {
   "cell_type": "markdown",
   "metadata": {},
   "source": [
    "# Sync videos by trimming\n",
    "The late file must be trimmed to have the same beggining\n",
    "as the early one.\n",
    "Also resize video to a 720p if not already in this format"
   ]
  },
  {
   "cell_type": "code",
   "execution_count": 60,
   "metadata": {},
   "outputs": [],
   "source": [
    "def scale(video):\n",
    "    return (\n",
    "        ffmpeg\n",
    "        .input(video)\n",
    "#         .setpts('N/(25*TB)')\n",
    "        .filter('scale', '-1', '720')  ## Reduce to 720p\n",
    "    )"
   ]
  },
  {
   "cell_type": "code",
   "execution_count": 61,
   "metadata": {},
   "outputs": [],
   "source": [
    "def output(stream, path):\n",
    "    outfilename = (path.parent / f'processed-{path.name}').as_posix()\n",
    "    \n",
    "    return (\n",
    "        stream\n",
    "        .filter('fps', 25)\n",
    "        .output(outfilename, pix_fmt='yuv420p', f='mp4')\n",
    "        .overwrite_output()\n",
    "    )"
   ]
  },
  {
   "cell_type": "code",
   "execution_count": 62,
   "metadata": {},
   "outputs": [],
   "source": [
    "def thumbnail(stream):\n",
    "    return (\n",
    "        stream\n",
    "#         .filter('fps', 10)\n",
    "        .filter('scale', '-1', '360')\n",
    "    )"
   ]
  },
  {
   "cell_type": "code",
   "execution_count": 63,
   "metadata": {},
   "outputs": [],
   "source": [
    "def side_by_side(outfilename, streams):\n",
    "    return (\n",
    "        ffmpeg\n",
    "        .overlay(*list(map(thumbnail, streams)), y=0, x=360)\n",
    "        .output(outfilename)\n",
    "        .overwrite_output()\n",
    "    )"
   ]
  },
  {
   "cell_type": "code",
   "execution_count": 64,
   "metadata": {},
   "outputs": [
    {
     "data": {
      "text/plain": [
       "[PosixPath('.temp-res/camera1.mp4'), PosixPath('.temp-res/camera2.mp4')]"
      ]
     },
     "execution_count": 64,
     "metadata": {},
     "output_type": "execute_result"
    }
   ],
   "source": [
    "videos_filenames = [entry[0] for entry in MEDIA_FILENAMES]\n",
    "videos_filenames"
   ]
  },
  {
   "cell_type": "code",
   "execution_count": 65,
   "metadata": {},
   "outputs": [],
   "source": [
    "streams = list(map(scale, INPUT_VIDEO_FILENAMES))"
   ]
  },
  {
   "cell_type": "code",
   "execution_count": 66,
   "metadata": {},
   "outputs": [],
   "source": [
    "streams[0] = streams[0].trim(start=DELAY) # trim only the late file"
   ]
  },
  {
   "cell_type": "code",
   "execution_count": 67,
   "metadata": {},
   "outputs": [
    {
     "data": {
      "text/plain": [
       "[trim(start=4.514588302012477)[None] <135adfcc2b1d>,\n",
       " scale('-1', '720')[None] <1a42e67a1e05>]"
      ]
     },
     "execution_count": 67,
     "metadata": {},
     "output_type": "execute_result"
    }
   ],
   "source": [
    "streams"
   ]
  },
  {
   "cell_type": "code",
   "execution_count": null,
   "metadata": {},
   "outputs": [],
   "source": [
    "mini = side_by_side('/Users/torres/Downloads/bob.mp4', streams)"
   ]
  },
  {
   "cell_type": "code",
   "execution_count": null,
   "metadata": {},
   "outputs": [],
   "source": [
    "ffmpeg.compile(mini)"
   ]
  },
  {
   "cell_type": "code",
   "execution_count": null,
   "metadata": {},
   "outputs": [],
   "source": [
    "mini.run()"
   ]
  },
  {
   "cell_type": "code",
   "execution_count": null,
   "metadata": {},
   "outputs": [],
   "source": [
    "videos_filenames = [Path('../)]"
   ]
  },
  {
   "cell_type": "code",
   "execution_count": 68,
   "metadata": {},
   "outputs": [],
   "source": [
    "out_streams = [output(stream, path) for stream, path in zip(streams, videos_filenames)]"
   ]
  },
  {
   "cell_type": "code",
   "execution_count": 69,
   "metadata": {},
   "outputs": [
    {
     "data": {
      "text/plain": [
       "['ffmpeg',\n",
       " '-i',\n",
       " PosixPath('../trabalho1/camera2.webm'),\n",
       " '-i',\n",
       " PosixPath('../trabalho1/camera1.webm'),\n",
       " '-filter_complex',\n",
       " '[0]scale=-1:720[s0];[s0]fps=25[s1];[1]scale=-1:720[s2];[s2]trim=start=4.514588302012477[s3];[s3]fps=25[s4]',\n",
       " '-map',\n",
       " '[s1]',\n",
       " '-f',\n",
       " 'mp4',\n",
       " '-pix_fmt',\n",
       " 'yuv420p',\n",
       " '.temp-res/processed-camera2.mp4',\n",
       " '-map',\n",
       " '[s4]',\n",
       " '-f',\n",
       " 'mp4',\n",
       " '-pix_fmt',\n",
       " 'yuv420p',\n",
       " '.temp-res/processed-camera1.mp4',\n",
       " '-y',\n",
       " '-y']"
      ]
     },
     "execution_count": 69,
     "metadata": {},
     "output_type": "execute_result"
    }
   ],
   "source": [
    "ffmpeg.compile(out_streams)"
   ]
  },
  {
   "cell_type": "code",
   "execution_count": 70,
   "metadata": {},
   "outputs": [
    {
     "data": {
      "text/plain": [
       "(None, None)"
      ]
     },
     "execution_count": 70,
     "metadata": {},
     "output_type": "execute_result"
    }
   ],
   "source": [
    "ffmpeg.merge_outputs(*out_streams).run()"
   ]
  },
  {
   "cell_type": "code",
   "execution_count": null,
   "metadata": {},
   "outputs": [],
   "source": [
    "!open ."
   ]
  },
  {
   "cell_type": "code",
   "execution_count": null,
   "metadata": {},
   "outputs": [],
   "source": []
  }
 ],
 "metadata": {
  "kernelspec": {
   "display_name": "Python 3",
   "language": "python",
   "name": "python3"
  },
  "language_info": {
   "codemirror_mode": {
    "name": "ipython",
    "version": 3
   },
   "file_extension": ".py",
   "mimetype": "text/x-python",
   "name": "python",
   "nbconvert_exporter": "python",
   "pygments_lexer": "ipython3",
   "version": "3.8.5"
  }
 },
 "nbformat": 4,
 "nbformat_minor": 4
}
